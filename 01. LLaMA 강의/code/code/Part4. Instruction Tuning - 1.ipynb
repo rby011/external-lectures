{
 "cells": [
  {
   "cell_type": "markdown",
   "id": "c720dd14",
   "metadata": {},
   "source": [
    "## load pretrained model"
   ]
  },
  {
   "cell_type": "code",
   "execution_count": 1,
   "id": "271860d6",
   "metadata": {},
   "outputs": [
    {
     "data": {
      "text/plain": [
       "device(type='cuda')"
      ]
     },
     "execution_count": 1,
     "metadata": {},
     "output_type": "execute_result"
    }
   ],
   "source": [
    "import torch\n",
    "\n",
    "device = torch.device('cuda' if torch.cuda.is_available() else 'cpu')\n",
    "device"
   ]
  },
  {
   "cell_type": "code",
   "execution_count": 2,
   "id": "b3811320",
   "metadata": {},
   "outputs": [
    {
     "name": "stderr",
     "output_type": "stream",
     "text": [
      "/usr/lib/python3/dist-packages/requests/__init__.py:89: RequestsDependencyWarning: urllib3 (2.0.2) or chardet (3.0.4) doesn't match a supported version!\n",
      "  warnings.warn(\"urllib3 ({}) or chardet ({}) doesn't match a supported \"\n"
     ]
    },
    {
     "name": "stdout",
     "output_type": "stream",
     "text": [
      "Setting ds_accelerator to cuda (auto detect)\n"
     ]
    },
    {
     "data": {
      "text/plain": [
       "LlamaForCausalLM(\n",
       "  (model): LlamaModel(\n",
       "    (embed_tokens): Embedding(50000, 512, padding_idx=0)\n",
       "    (layers): ModuleList(\n",
       "      (0-3): 4 x LlamaDecoderLayer(\n",
       "        (self_attn): LlamaAttention(\n",
       "          (q_proj): Linear(in_features=512, out_features=512, bias=False)\n",
       "          (k_proj): Linear(in_features=512, out_features=512, bias=False)\n",
       "          (v_proj): Linear(in_features=512, out_features=512, bias=False)\n",
       "          (o_proj): Linear(in_features=512, out_features=512, bias=False)\n",
       "          (rotary_emb): LlamaRotaryEmbedding()\n",
       "        )\n",
       "        (mlp): LlamaMLP(\n",
       "          (gate_proj): Linear(in_features=512, out_features=1376, bias=False)\n",
       "          (down_proj): Linear(in_features=1376, out_features=512, bias=False)\n",
       "          (up_proj): Linear(in_features=512, out_features=1376, bias=False)\n",
       "          (act_fn): SiLUActivation()\n",
       "        )\n",
       "        (input_layernorm): LlamaRMSNorm()\n",
       "        (post_attention_layernorm): LlamaRMSNorm()\n",
       "      )\n",
       "    )\n",
       "    (norm): LlamaRMSNorm()\n",
       "  )\n",
       "  (lm_head): Linear(in_features=512, out_features=50000, bias=False)\n",
       ")"
      ]
     },
     "execution_count": 2,
     "metadata": {},
     "output_type": "execute_result"
    }
   ],
   "source": [
    "from transformers import LlamaForCausalLM\n",
    "from transformers import AutoTokenizer\n",
    "\n",
    "tokenizer = AutoTokenizer.from_pretrained(\"daily_tokenizer_0612\")\n",
    "model = LlamaForCausalLM.from_pretrained('daily_llama_0612')\n",
    "\n",
    "model.to(device)"
   ]
  },
  {
   "cell_type": "code",
   "execution_count": 3,
   "id": "10b676c3",
   "metadata": {},
   "outputs": [
    {
     "data": {
      "text/plain": [
       "'If there were an annual prize for the \"World\\'s Most Hopeful Economy,\" it would likely go the way for the first time in the world. \"It\\'s a great deal for the world to be able to get the best of the world.\" The world\\'s most important thing is to see the world\\'s most important thing: the world is to see the world\\'s most important and most important. \"We have a lot of people who have been in the world, and we have a lot of people'"
      ]
     },
     "execution_count": 3,
     "metadata": {},
     "output_type": "execute_result"
    }
   ],
   "source": [
    "model.eval()\n",
    "\n",
    "prompt = \"\"\"\\\n",
    "If there were an annual prize for the \"World\\'s Most Hopeful Economy,\" it would likely go the\"\"\"\n",
    "inputs = tokenizer(prompt, return_tensors=\"pt\")\n",
    "inputs.to(device)\n",
    "\n",
    "# Generate\n",
    "generate_ids = model.generate(inputs.input_ids, max_length=100)\n",
    "tokenizer.batch_decode(generate_ids, skip_special_tokens=True, clean_up_tokenization_spaces=False)[0]\n"
   ]
  },
  {
   "cell_type": "code",
   "execution_count": 4,
   "id": "00067ee2",
   "metadata": {},
   "outputs": [
    {
     "data": {
      "text/plain": [
       "\"It's official: U.S. President Barack Obama wants lawmakers to weigh in on whether to use military force in the United States. The president's plan is to make a decision on the issue of the U.S. military. The president's\""
      ]
     },
     "execution_count": 4,
     "metadata": {},
     "output_type": "execute_result"
    }
   ],
   "source": [
    "prompt = \"\"\"It's official: U.S. President Barack Obama wants lawmakers to weigh in on whether to use military force in\"\"\"\n",
    "inputs = tokenizer(prompt, return_tensors=\"pt\")\n",
    "inputs.to(device)\n",
    "\n",
    "# Generate\n",
    "generate_ids = model.generate(inputs.input_ids, max_length=50)\n",
    "tokenizer.batch_decode(generate_ids, skip_special_tokens=True, clean_up_tokenization_spaces=False)[0]\n"
   ]
  },
  {
   "cell_type": "markdown",
   "id": "158abce5",
   "metadata": {},
   "source": [
    "## load dataset"
   ]
  },
  {
   "cell_type": "code",
   "execution_count": 5,
   "id": "656b2aae",
   "metadata": {},
   "outputs": [
    {
     "name": "stderr",
     "output_type": "stream",
     "text": [
      "Found cached dataset parquet (/home/ubuntu/.cache/huggingface/datasets/GonzaloA___parquet/GonzaloA--fake_news-1fe2b42e1fa111c8/0.0.0/2a3b91fbd88a2c90d1dbbb32b460cf621d31bd5b05b934492fdef7d8d6f236ec)\n"
     ]
    },
    {
     "data": {
      "application/vnd.jupyter.widget-view+json": {
       "model_id": "3e0e838d0d124553b783d17eeeb95368",
       "version_major": 2,
       "version_minor": 0
      },
      "text/plain": [
       "  0%|          | 0/3 [00:00<?, ?it/s]"
      ]
     },
     "metadata": {},
     "output_type": "display_data"
    },
    {
     "data": {
      "text/plain": [
       "DatasetDict({\n",
       "    train: Dataset({\n",
       "        features: ['Unnamed: 0', 'title', 'text', 'label'],\n",
       "        num_rows: 24353\n",
       "    })\n",
       "    validation: Dataset({\n",
       "        features: ['Unnamed: 0', 'title', 'text', 'label'],\n",
       "        num_rows: 8117\n",
       "    })\n",
       "    test: Dataset({\n",
       "        features: ['Unnamed: 0', 'title', 'text', 'label'],\n",
       "        num_rows: 8117\n",
       "    })\n",
       "})"
      ]
     },
     "execution_count": 5,
     "metadata": {},
     "output_type": "execute_result"
    }
   ],
   "source": [
    "from datasets import load_dataset\n",
    "data = 'GonzaloA/fake_news'\n",
    "dataset = load_dataset(data)\n",
    "\n",
    "dataset"
   ]
  },
  {
   "cell_type": "code",
   "execution_count": 6,
   "id": "56f76518",
   "metadata": {},
   "outputs": [
    {
     "data": {
      "text/plain": [
       "{'Unnamed: 0': 0,\n",
       " 'title': ' ‘Maury’ Show Official Facebook Posts F*CKED UP Caption On Guest That Looks Like Ted Cruz (IMAGE)',\n",
       " 'text': 'Maury is perhaps one of the trashiest shows on television today. It s right in line with the likes of the gutter trash that is Jerry Springer, and the fact that those shows are still on the air with the shit they air really is a sad testament to what Americans find to be entertaining. However, Maury really crossed the line with a Facebook post regarding one of their guest s appearance with a vile, disgusting caption on Tuesday evening.There was a young woman on there doing one of their episodes regarding the paternity of her child. However, on the page, the show posted an image of the woman, who happens to bear a striking resemblance to Senator and presidential candidate Ted Cruz. The caption from the Maury Show page read: The Lie Detector Test determined .that was a LIE!  Ted Cruz is just NOT that SEXY! As if that weren t horrible enough, the caption underneath the Imgur upload reads,  Ted Cruz in drag on Maury. Here is an image from the official Maury Facebook page:Here is the embed of the post itself:This is beyond despicable. It s bad enough that this show preys on desperate people to keep their trashy show going and their audience of bottom-feeders entertained, but now they publicly mock them as well? This young woman cannot help how she looks or who she resembles. That is not her fault. Shaming someone s looks on social media is something we d expect from the morons who watch this crap on a daily basis, but it is NOT something the official show page should be doing. Then again, what can you expect from a show that rolls in the mud for a living and continues to show the world that there is now low they will not stoop to? This was more than a step too far, though.Maury, you owe this young woman a public apology. A VERY public apology. There s just no excuse for this, no matter the demographics of your audience or what you do on that disgusting show of yours. I suppose it will be too much to ask that you lose viewers over this, because the people who watch your trashy ass show likely aren t educated enough to understand why this is so wrong in the first place. I don t watch, so I can t deprive you of my viewership, but I CAN call you out.Shame on you, Maury Show and everyone associated with this despicable Facebook post. You really showed your true colors here today.Featured image via Facebook ',\n",
       " 'label': 0}"
      ]
     },
     "execution_count": 6,
     "metadata": {},
     "output_type": "execute_result"
    }
   ],
   "source": [
    "dataset['train'][0]"
   ]
  },
  {
   "cell_type": "code",
   "execution_count": 7,
   "id": "27820127",
   "metadata": {},
   "outputs": [
    {
     "data": {
      "text/plain": [
       "{'Unnamed: 0': Value(dtype='int64', id=None),\n",
       " 'title': Value(dtype='string', id=None),\n",
       " 'text': Value(dtype='string', id=None),\n",
       " 'label': Value(dtype='int64', id=None)}"
      ]
     },
     "execution_count": 7,
     "metadata": {},
     "output_type": "execute_result"
    }
   ],
   "source": [
    "dataset['train'].features"
   ]
  },
  {
   "cell_type": "code",
   "execution_count": 10,
   "id": "0303baef",
   "metadata": {},
   "outputs": [],
   "source": [
    "int2label = {0: 'False', 1: 'True'}\n",
    "label2int = {'False': 0, 'True': 1}"
   ]
  },
  {
   "cell_type": "code",
   "execution_count": 8,
   "id": "644c9ed9",
   "metadata": {},
   "outputs": [
    {
     "data": {
      "text/plain": [
       "'Determine if the given article is fake. article: ‘Maury’ Show Official Facebook Posts F*CKED UP Caption On Guest That Looks Like Ted Cruz (IMAGE) answer: . \"I\\'m a little bit more than a few years ago. I\\'m a little'"
      ]
     },
     "execution_count": 8,
     "metadata": {},
     "output_type": "execute_result"
    }
   ],
   "source": [
    "prompt = \"\"\"\\\n",
    "Determine if the given article is fake. article: ‘Maury’ Show Official Facebook Posts F*CKED UP Caption On Guest That Looks Like Ted Cruz (IMAGE) answer:\"\"\"\n",
    "inputs = tokenizer(prompt, return_tensors=\"pt\")\n",
    "inputs.to(device)\n",
    "\n",
    "# Generate\n",
    "generate_ids = model.generate(inputs.input_ids, max_length = 60)\n",
    "tokenizer.batch_decode(generate_ids, skip_special_tokens=True, clean_up_tokenization_spaces=False)[0]"
   ]
  },
  {
   "cell_type": "code",
   "execution_count": 11,
   "id": "0e8b2456",
   "metadata": {},
   "outputs": [
    {
     "name": "stderr",
     "output_type": "stream",
     "text": [
      "Loading cached processed dataset at /home/ubuntu/.cache/huggingface/datasets/GonzaloA___parquet/GonzaloA--fake_news-1fe2b42e1fa111c8/0.0.0/2a3b91fbd88a2c90d1dbbb32b460cf621d31bd5b05b934492fdef7d8d6f236ec/cache-220af72a0a92ec07.arrow\n",
      "Loading cached processed dataset at /home/ubuntu/.cache/huggingface/datasets/GonzaloA___parquet/GonzaloA--fake_news-1fe2b42e1fa111c8/0.0.0/2a3b91fbd88a2c90d1dbbb32b460cf621d31bd5b05b934492fdef7d8d6f236ec/cache-3157fc2b2a9f68f5.arrow\n",
      "Loading cached processed dataset at /home/ubuntu/.cache/huggingface/datasets/GonzaloA___parquet/GonzaloA--fake_news-1fe2b42e1fa111c8/0.0.0/2a3b91fbd88a2c90d1dbbb32b460cf621d31bd5b05b934492fdef7d8d6f236ec/cache-8d8e68d6cb5ed296.arrow\n"
     ]
    }
   ],
   "source": [
    "from datasets import DatasetDict\n",
    "import random\n",
    "\n",
    "prompt_format1 = \"\"\"Determine if the given article is fake. article: %s  answer: %s\"\"\"\n",
    "prompt_format2 = \"\"\"Is this article fake? article: %s answer: %s\"\"\"\n",
    "prompt_format3 = \"\"\"Return True if the given article is fake. article: %s answer: %s\"\"\"\n",
    "\n",
    "prompts = [prompt_format1, prompt_format2, prompt_format3]\n",
    "def gen_prompt_fake(element):\n",
    "    prompt_format = prompts[random.randint(0, len(prompts)-1)]\n",
    "    return DatasetDict({'input': prompt_format%(element['title'], int2label[element['label']])})\n",
    "\n",
    "\n",
    "dataset['train'] = dataset['train'].map(gen_prompt_fake)\n",
    "dataset['validation'] = dataset['validation'].map(gen_prompt_fake)\n",
    "dataset['test'] = dataset['test'].map(gen_prompt_fake)"
   ]
  },
  {
   "cell_type": "code",
   "execution_count": 12,
   "id": "da58d58f",
   "metadata": {},
   "outputs": [
    {
     "data": {
      "text/plain": [
       "{'Unnamed: 0': 0,\n",
       " 'title': ' ‘Maury’ Show Official Facebook Posts F*CKED UP Caption On Guest That Looks Like Ted Cruz (IMAGE)',\n",
       " 'text': 'Maury is perhaps one of the trashiest shows on television today. It s right in line with the likes of the gutter trash that is Jerry Springer, and the fact that those shows are still on the air with the shit they air really is a sad testament to what Americans find to be entertaining. However, Maury really crossed the line with a Facebook post regarding one of their guest s appearance with a vile, disgusting caption on Tuesday evening.There was a young woman on there doing one of their episodes regarding the paternity of her child. However, on the page, the show posted an image of the woman, who happens to bear a striking resemblance to Senator and presidential candidate Ted Cruz. The caption from the Maury Show page read: The Lie Detector Test determined .that was a LIE!  Ted Cruz is just NOT that SEXY! As if that weren t horrible enough, the caption underneath the Imgur upload reads,  Ted Cruz in drag on Maury. Here is an image from the official Maury Facebook page:Here is the embed of the post itself:This is beyond despicable. It s bad enough that this show preys on desperate people to keep their trashy show going and their audience of bottom-feeders entertained, but now they publicly mock them as well? This young woman cannot help how she looks or who she resembles. That is not her fault. Shaming someone s looks on social media is something we d expect from the morons who watch this crap on a daily basis, but it is NOT something the official show page should be doing. Then again, what can you expect from a show that rolls in the mud for a living and continues to show the world that there is now low they will not stoop to? This was more than a step too far, though.Maury, you owe this young woman a public apology. A VERY public apology. There s just no excuse for this, no matter the demographics of your audience or what you do on that disgusting show of yours. I suppose it will be too much to ask that you lose viewers over this, because the people who watch your trashy ass show likely aren t educated enough to understand why this is so wrong in the first place. I don t watch, so I can t deprive you of my viewership, but I CAN call you out.Shame on you, Maury Show and everyone associated with this despicable Facebook post. You really showed your true colors here today.Featured image via Facebook ',\n",
       " 'label': 0,\n",
       " 'input': 'Return True if the given article is fake. article:  ‘Maury’ Show Official Facebook Posts F*CKED UP Caption On Guest That Looks Like Ted Cruz (IMAGE) answer: False'}"
      ]
     },
     "execution_count": 12,
     "metadata": {},
     "output_type": "execute_result"
    }
   ],
   "source": [
    "dataset['train'][0]"
   ]
  },
  {
   "cell_type": "code",
   "execution_count": 13,
   "id": "94963ca5",
   "metadata": {},
   "outputs": [
    {
     "data": {
      "text/html": [
       "<div>\n",
       "<style scoped>\n",
       "    .dataframe tbody tr th:only-of-type {\n",
       "        vertical-align: middle;\n",
       "    }\n",
       "\n",
       "    .dataframe tbody tr th {\n",
       "        vertical-align: top;\n",
       "    }\n",
       "\n",
       "    .dataframe thead th {\n",
       "        text-align: right;\n",
       "    }\n",
       "</style>\n",
       "<table border=\"1\" class=\"dataframe\">\n",
       "  <thead>\n",
       "    <tr style=\"text-align: right;\">\n",
       "      <th></th>\n",
       "      <th>Unnamed: 0</th>\n",
       "      <th>title</th>\n",
       "      <th>text</th>\n",
       "      <th>label</th>\n",
       "      <th>input</th>\n",
       "    </tr>\n",
       "  </thead>\n",
       "  <tbody>\n",
       "    <tr>\n",
       "      <th>0</th>\n",
       "      <td>0</td>\n",
       "      <td>‘Maury’ Show Official Facebook Posts F*CKED U...</td>\n",
       "      <td>Maury is perhaps one of the trashiest shows on...</td>\n",
       "      <td>0</td>\n",
       "      <td>Return True if the given article is fake. arti...</td>\n",
       "    </tr>\n",
       "    <tr>\n",
       "      <th>1</th>\n",
       "      <td>1</td>\n",
       "      <td>Trump’s Favorite News Channel Tries To Soothe...</td>\n",
       "      <td>Yesterday, after the father of one of the UCLA...</td>\n",
       "      <td>0</td>\n",
       "      <td>Return True if the given article is fake. arti...</td>\n",
       "    </tr>\n",
       "    <tr>\n",
       "      <th>2</th>\n",
       "      <td>2</td>\n",
       "      <td>Russia warns Iraq, Kurds not to destabilize Mi...</td>\n",
       "      <td>MOSCOW (Reuters) - Russia on Wednesday warned ...</td>\n",
       "      <td>1</td>\n",
       "      <td>Is this article fake? article: Russia warns Ir...</td>\n",
       "    </tr>\n",
       "    <tr>\n",
       "      <th>3</th>\n",
       "      <td>3</td>\n",
       "      <td>WATCH STEVE SCALISE Throw A Strike At The Nati...</td>\n",
       "      <td>House Majority Whip Steve Scalise (R., La.) th...</td>\n",
       "      <td>0</td>\n",
       "      <td>Return True if the given article is fake. arti...</td>\n",
       "    </tr>\n",
       "    <tr>\n",
       "      <th>4</th>\n",
       "      <td>4</td>\n",
       "      <td>Trump Will HATE What Stephen Colbert Just Did...</td>\n",
       "      <td>It can be said that Late Show host Stephen Col...</td>\n",
       "      <td>0</td>\n",
       "      <td>Is this article fake? article:  Trump Will HAT...</td>\n",
       "    </tr>\n",
       "    <tr>\n",
       "      <th>...</th>\n",
       "      <td>...</td>\n",
       "      <td>...</td>\n",
       "      <td>...</td>\n",
       "      <td>...</td>\n",
       "      <td>...</td>\n",
       "    </tr>\n",
       "    <tr>\n",
       "      <th>24348</th>\n",
       "      <td>24348</td>\n",
       "      <td>EU Parliament chief asks Poland to ensure MEPs...</td>\n",
       "      <td>WARSAW (Reuters) - The president of the Europe...</td>\n",
       "      <td>1</td>\n",
       "      <td>Determine if the given article is fake. articl...</td>\n",
       "    </tr>\n",
       "    <tr>\n",
       "      <th>24349</th>\n",
       "      <td>24349</td>\n",
       "      <td>Chemical weapons watchdog found sarin used in ...</td>\n",
       "      <td>AMSTERDAM/UNITED NATIONS (Reuters) - An inquir...</td>\n",
       "      <td>1</td>\n",
       "      <td>Return True if the given article is fake. arti...</td>\n",
       "    </tr>\n",
       "    <tr>\n",
       "      <th>24350</th>\n",
       "      <td>24350</td>\n",
       "      <td>Melissa Harris-Perry Is DONE With MSNBC, Pens...</td>\n",
       "      <td>As you may or may not know at this point, MSNB...</td>\n",
       "      <td>0</td>\n",
       "      <td>Return True if the given article is fake. arti...</td>\n",
       "    </tr>\n",
       "    <tr>\n",
       "      <th>24351</th>\n",
       "      <td>24351</td>\n",
       "      <td>Trump's pick for Navy secretary withdraws</td>\n",
       "      <td>WASHINGTON (Reuters) - U.S. President Donald T...</td>\n",
       "      <td>1</td>\n",
       "      <td>Is this article fake? article: Trump's pick fo...</td>\n",
       "    </tr>\n",
       "    <tr>\n",
       "      <th>24352</th>\n",
       "      <td>24352</td>\n",
       "      <td>Ukraine's Tymoshenko expects fair U.S. ruling ...</td>\n",
       "      <td>KIEV (Reuters) - Ukrainian opposition leader Y...</td>\n",
       "      <td>1</td>\n",
       "      <td>Determine if the given article is fake. articl...</td>\n",
       "    </tr>\n",
       "  </tbody>\n",
       "</table>\n",
       "<p>24353 rows × 5 columns</p>\n",
       "</div>"
      ],
      "text/plain": [
       "       Unnamed: 0                                              title  \\\n",
       "0               0   ‘Maury’ Show Official Facebook Posts F*CKED U...   \n",
       "1               1   Trump’s Favorite News Channel Tries To Soothe...   \n",
       "2               2  Russia warns Iraq, Kurds not to destabilize Mi...   \n",
       "3               3  WATCH STEVE SCALISE Throw A Strike At The Nati...   \n",
       "4               4   Trump Will HATE What Stephen Colbert Just Did...   \n",
       "...           ...                                                ...   \n",
       "24348       24348  EU Parliament chief asks Poland to ensure MEPs...   \n",
       "24349       24349  Chemical weapons watchdog found sarin used in ...   \n",
       "24350       24350   Melissa Harris-Perry Is DONE With MSNBC, Pens...   \n",
       "24351       24351          Trump's pick for Navy secretary withdraws   \n",
       "24352       24352  Ukraine's Tymoshenko expects fair U.S. ruling ...   \n",
       "\n",
       "                                                    text  label  \\\n",
       "0      Maury is perhaps one of the trashiest shows on...      0   \n",
       "1      Yesterday, after the father of one of the UCLA...      0   \n",
       "2      MOSCOW (Reuters) - Russia on Wednesday warned ...      1   \n",
       "3      House Majority Whip Steve Scalise (R., La.) th...      0   \n",
       "4      It can be said that Late Show host Stephen Col...      0   \n",
       "...                                                  ...    ...   \n",
       "24348  WARSAW (Reuters) - The president of the Europe...      1   \n",
       "24349  AMSTERDAM/UNITED NATIONS (Reuters) - An inquir...      1   \n",
       "24350  As you may or may not know at this point, MSNB...      0   \n",
       "24351  WASHINGTON (Reuters) - U.S. President Donald T...      1   \n",
       "24352  KIEV (Reuters) - Ukrainian opposition leader Y...      1   \n",
       "\n",
       "                                                   input  \n",
       "0      Return True if the given article is fake. arti...  \n",
       "1      Return True if the given article is fake. arti...  \n",
       "2      Is this article fake? article: Russia warns Ir...  \n",
       "3      Return True if the given article is fake. arti...  \n",
       "4      Is this article fake? article:  Trump Will HAT...  \n",
       "...                                                  ...  \n",
       "24348  Determine if the given article is fake. articl...  \n",
       "24349  Return True if the given article is fake. arti...  \n",
       "24350  Return True if the given article is fake. arti...  \n",
       "24351  Is this article fake? article: Trump's pick fo...  \n",
       "24352  Determine if the given article is fake. articl...  \n",
       "\n",
       "[24353 rows x 5 columns]"
      ]
     },
     "execution_count": 13,
     "metadata": {},
     "output_type": "execute_result"
    }
   ],
   "source": [
    "dataset['train'].to_pandas()"
   ]
  },
  {
   "cell_type": "code",
   "execution_count": 14,
   "id": "07e6ab7e",
   "metadata": {},
   "outputs": [
    {
     "name": "stderr",
     "output_type": "stream",
     "text": [
      "Loading cached processed dataset at /home/ubuntu/.cache/huggingface/datasets/GonzaloA___parquet/GonzaloA--fake_news-1fe2b42e1fa111c8/0.0.0/2a3b91fbd88a2c90d1dbbb32b460cf621d31bd5b05b934492fdef7d8d6f236ec/cache-9d7e94efe87893f0.arrow\n",
      "Loading cached processed dataset at /home/ubuntu/.cache/huggingface/datasets/GonzaloA___parquet/GonzaloA--fake_news-1fe2b42e1fa111c8/0.0.0/2a3b91fbd88a2c90d1dbbb32b460cf621d31bd5b05b934492fdef7d8d6f236ec/cache-bb069843cfbc2807.arrow\n",
      "Loading cached processed dataset at /home/ubuntu/.cache/huggingface/datasets/GonzaloA___parquet/GonzaloA--fake_news-1fe2b42e1fa111c8/0.0.0/2a3b91fbd88a2c90d1dbbb32b460cf621d31bd5b05b934492fdef7d8d6f236ec/cache-027c2c6d0c69d6af.arrow\n"
     ]
    },
    {
     "data": {
      "text/plain": [
       "DatasetDict({\n",
       "    train: Dataset({\n",
       "        features: ['input_ids'],\n",
       "        num_rows: 24353\n",
       "    })\n",
       "    validation: Dataset({\n",
       "        features: ['input_ids'],\n",
       "        num_rows: 8117\n",
       "    })\n",
       "    test: Dataset({\n",
       "        features: ['input_ids'],\n",
       "        num_rows: 8117\n",
       "    })\n",
       "})"
      ]
     },
     "execution_count": 14,
     "metadata": {},
     "output_type": "execute_result"
    }
   ],
   "source": [
    "def tokenize(element):\n",
    "    tokenizer.pad_token = tokenizer.eos_token\n",
    "    outputs = tokenizer(\n",
    "        element['input'],\n",
    "        truncation=True,\n",
    "        max_length=context_length,\n",
    "        return_overflowing_tokens=False,\n",
    "        return_length=True,\n",
    "        padding=True\n",
    "    )\n",
    "    input_batch = []\n",
    "    for inputs, input_ids, labels in zip(element[\"input\"], outputs[\"input_ids\"], element['label']):\n",
    "        input_batch.append(input_ids)\n",
    "    return {\"input_ids\": input_batch}\n",
    "\n",
    "\n",
    "context_length=128\n",
    "tokenized_datasets = dataset.map(\n",
    "    tokenize, batched=True, remove_columns=dataset['train'].column_names\n",
    ")\n",
    "tokenized_datasets"
   ]
  },
  {
   "cell_type": "markdown",
   "id": "9d240f5e",
   "metadata": {},
   "source": [
    "## train"
   ]
  },
  {
   "cell_type": "code",
   "execution_count": 15,
   "id": "d458ce61",
   "metadata": {},
   "outputs": [],
   "source": [
    "from transformers import DataCollatorForLanguageModeling\n",
    "\n",
    "tokenizer.pad_token = tokenizer.eos_token\n",
    "data_collator = DataCollatorForLanguageModeling(tokenizer, mlm=False)"
   ]
  },
  {
   "cell_type": "code",
   "execution_count": 16,
   "id": "30adf6f0",
   "metadata": {},
   "outputs": [
    {
     "name": "stderr",
     "output_type": "stream",
     "text": [
      "You're using a GPT2TokenizerFast tokenizer. Please note that with a fast tokenizer, using the `__call__` method is faster than using a method to encode the text followed by a call to the `pad` method to get a padded encoding.\n"
     ]
    },
    {
     "name": "stdout",
     "output_type": "stream",
     "text": [
      "input_ids shape: torch.Size([5, 86])\n",
      "attention_mask shape: torch.Size([5, 86])\n",
      "labels shape: torch.Size([5, 86])\n"
     ]
    }
   ],
   "source": [
    "out = data_collator([tokenized_datasets['train'][i] for i in range(5)])\n",
    "for key in out:\n",
    "    print(f\"{key} shape: {out[key].shape}\")"
   ]
  },
  {
   "cell_type": "code",
   "execution_count": 25,
   "id": "06d7317d",
   "metadata": {},
   "outputs": [],
   "source": [
    "from transformers import Trainer, TrainingArguments\n",
    "\n",
    "args = TrainingArguments(\n",
    "    output_dir=\"fake_detect_llama\",\n",
    "    per_device_train_batch_size=4,\n",
    "    per_device_eval_batch_size=4,\n",
    "    evaluation_strategy=\"steps\",\n",
    "    eval_steps=1_000,\n",
    "    logging_steps=1_000,\n",
    "    gradient_accumulation_steps=8,\n",
    "    num_train_epochs=1,\n",
    "    weight_decay=0.1,\n",
    "    warmup_steps=1_000,\n",
    "    lr_scheduler_type=\"cosine\",\n",
    "    learning_rate=5e-4,\n",
    "    save_steps=1_000,\n",
    "    fp16=True,\n",
    "    push_to_hub=False,\n",
    ")\n",
    "\n",
    "trainer = Trainer(\n",
    "    model=model,\n",
    "    tokenizer=tokenizer,\n",
    "    args=args,\n",
    "    data_collator=data_collator,\n",
    "    train_dataset=tokenized_datasets[\"train\"],\n",
    "    eval_dataset=tokenized_datasets[\"validation\"],\n",
    ")"
   ]
  },
  {
   "cell_type": "code",
   "execution_count": 26,
   "id": "175d6750",
   "metadata": {},
   "outputs": [
    {
     "data": {
      "text/html": [
       "\n",
       "    <div>\n",
       "      \n",
       "      <progress value='761' max='761' style='width:300px; height:20px; vertical-align: middle;'></progress>\n",
       "      [761/761 02:22, Epoch 0/1]\n",
       "    </div>\n",
       "    <table border=\"1\" class=\"dataframe\">\n",
       "  <thead>\n",
       " <tr style=\"text-align: left;\">\n",
       "      <th>Step</th>\n",
       "      <th>Training Loss</th>\n",
       "      <th>Validation Loss</th>\n",
       "    </tr>\n",
       "  </thead>\n",
       "  <tbody>\n",
       "  </tbody>\n",
       "</table><p>"
      ],
      "text/plain": [
       "<IPython.core.display.HTML object>"
      ]
     },
     "metadata": {},
     "output_type": "display_data"
    },
    {
     "data": {
      "text/plain": [
       "TrainOutput(global_step=761, training_loss=2.6480257332559956, metrics={'train_runtime': 143.0857, 'train_samples_per_second': 170.199, 'train_steps_per_second': 5.318, 'total_flos': 501828070563840.0, 'train_loss': 2.6480257332559956, 'epoch': 1.0})"
      ]
     },
     "execution_count": 26,
     "metadata": {},
     "output_type": "execute_result"
    }
   ],
   "source": [
    "trainer.train()"
   ]
  },
  {
   "cell_type": "markdown",
   "id": "18c95eba",
   "metadata": {},
   "source": [
    "## evaluate"
   ]
  },
  {
   "cell_type": "code",
   "execution_count": 27,
   "id": "d53bda86",
   "metadata": {},
   "outputs": [
    {
     "data": {
      "text/plain": [
       "'Return True if the given article is fake. article: Boeing CEO says he assured Trump about Air Force One costs answer: True'"
      ]
     },
     "execution_count": 27,
     "metadata": {},
     "output_type": "execute_result"
    }
   ],
   "source": [
    "dataset['test'][234]['input']"
   ]
  },
  {
   "cell_type": "code",
   "execution_count": 28,
   "id": "73cd34a0",
   "metadata": {},
   "outputs": [
    {
     "name": "stdout",
     "output_type": "stream",
     "text": [
      "Return True if the given article is fake. article: Boeing CEO says he assured Trump about Air Force One costs answer: True if he is not planning to be 'flagrant aggression' answer: True if he is not doing to answer:\n"
     ]
    }
   ],
   "source": [
    "prompt = \"\"\"Return True if the given article is fake. article: Boeing CEO says he assured Trump about Air Force One costs answer:\"\"\"\n",
    "\n",
    "inputs = tokenizer(prompt, return_tensors=\"pt\")\n",
    "inputs.to(device)\n",
    "\n",
    "# Generate\n",
    "generate_ids = model.generate(inputs.input_ids, max_length=50)\n",
    "output = tokenizer.batch_decode(generate_ids, skip_special_tokens=True, clean_up_tokenization_spaces=False)[0]\n",
    "\n",
    "print(output)"
   ]
  },
  {
   "cell_type": "code",
   "execution_count": 36,
   "id": "c1e47d33",
   "metadata": {},
   "outputs": [
    {
     "name": "stderr",
     "output_type": "stream",
     "text": [
      "Loading cached processed dataset at /home/ubuntu/.cache/huggingface/datasets/GonzaloA___parquet/GonzaloA--fake_news-1fe2b42e1fa111c8/0.0.0/2a3b91fbd88a2c90d1dbbb32b460cf621d31bd5b05b934492fdef7d8d6f236ec/cache-3aaf051c74725d85.arrow\n"
     ]
    },
    {
     "data": {
      "text/plain": [
       "{'Unnamed: 0': 0,\n",
       " 'title': 'FORMER U.S. ATTORNEY: “It’s VERY Clear Intel Conspired to Frame Trump” (VIDEO)',\n",
       " 'text': 'JOE DIGENOVA has been around D.C for decades and has seen it all. He probably didn t see his one coming. The incoming president  was set-up to be taken down. A soft coup is in the works and DiGenova has this to say about it:\"It\\'s very clear that they conspired to frame the incoming President of the United States.\"  Joe diGenova on allegations of anti-Trump bias at FBI and TheJusticeDept #Tucker https://t.co/qUNjAenzJc pic.twitter.com/VDlhb45Ghi  G. Ashley Hawkins (@g_ashleyhawkins) December 16, 2017DiGenova on Tucker Carlson tonight: Inside the FBI and Department of Justice under Obama was a brazen plot to do two things. To exonerate Hillary Clinton because of an animous for Donald Trump, and then if she lost to frame the incoming president for either a criminal act or impeachment. This is one of the most disgusting performances by the senior officials at the FBI and the Department of Justice that everyone of these agents should be fired and the people who are still in the Justice Department be fired including Mr. Ohr and they impanel a federal grand jury to investigate the conduct of McCabe and Strzok and Page and Comey and Ohr and everybody in the Obama Justice Department that even touched this. It s very clear that they conspired to frame the incoming president of the United States.DIGENOVA S WIFE VICTORIA TOENSING IS REPRESENTING A FORMER FBI INFORMANT WHO HAS THE GOODS ON THE URANIUM ONE DEAL: DC lawyer Victoria Toensing is one smart cookie. She s representing a former FBI informant who has evidence on kickbacks and bribery involving the transportation of uranium in the US. She recently told Sean Hannity her client will brief Congress about Russian involvement in the U.S. uranium market. This includes widespread bribery and actions that involved the Clintons https://www.youtube.com/watch?v=eDVndQRW22Q I m not going into detail,  attorney Victoria Toensing said on the Oct. 24 Hannity.  You know that, Sean. But the informant will give an overview and specific conversations that he had with Russians in what they were thinking about the money that they were spending. I mean, let me just be that general and it involves the Clintons. The director of the FBI at that time was Robert Mueller, and he is now the special counsel investigating alleged Russian collusion with the 2016 Trump campaign. The undercover investigation involving Toensing s client occurred between 2009 and 2014, and the senior attorney on the case was Rod Rosenstein, who is now the deputy attorney general of the United States and the official who appointed Mueller as special counsel.Further, all this information indicates that many senior Obama administration officials knew about instances of bribery and money laundering involving at least one Russian official, at a time when Russia wanted to expand its uranium market in the United States, and when the administration through a special committee had to approve or deny the sale of a company, Vancouver-based Uranium One, to Rosatom. (Rosatom is the Russian State Atomic Energy Corporation.)Some of the people on that Committee on Foreign Investment in the United States included then-Secretary of State Hillary Clinton, Attorney General Eric Holder, Homeland Security Secretary Janet Napalitano, and Treasury Secretary Timothy Geithner.The committee approved the sale of Uranium One to Rosatom in October 2010. That sale gave Russia, and President Vladimir Putin, control over 20% of U.S. uranium production. (At least nine investors in Uranium One   prior to, during, and after that sale   donated $145 million to the Clinton Foundation.) So, Mueller, [Rod] Rosenstein, maybe even [James] Comey at the time, and the president of the United States   certainly Eric Holder was the head of the DOJ   they all knew that they had all this evidence that the Russians had infiltrated with the purpose of a criminal enterprise to corner the market on uranium, the foundational material of nuclear weapons?  asked Hannity.Toensing said,  That is correct. Via: cns news',\n",
       " 'label': 0,\n",
       " 'input': 'Return True if the given article is fake. article: FORMER U.S. ATTORNEY: “It’s VERY Clear Intel Conspired to Frame Trump” (VIDEO) answer:'}"
      ]
     },
     "execution_count": 36,
     "metadata": {},
     "output_type": "execute_result"
    }
   ],
   "source": [
    "tokenizer = AutoTokenizer.from_pretrained(\"daily_tokenizer_0612\", padding_side='left')\n",
    "\n",
    "\n",
    "prompt_format1 = \"\"\"Determine if the given article is fake. article: %s  answer:\"\"\"\n",
    "prompt_format2 = \"\"\"Is this article fake? article: %s answer:\"\"\"\n",
    "prompt_format3 = \"\"\"Return True if the given article is fake. article: %s answer:\"\"\"\n",
    "\n",
    "prompts = [prompt_format1, prompt_format2, prompt_format3]\n",
    "\n",
    "def gen_valid_prompt(element):\n",
    "    prompt_format = prompts[random.randint(0, len(prompts)-1)]\n",
    "    return DatasetDict({'input': prompt_format%(element['title'])})\n",
    "\n",
    "\n",
    "valid_dataset = dataset['test'].select(range(100)).map(gen_valid_prompt)\n",
    "valid_dataset[0]"
   ]
  },
  {
   "cell_type": "code",
   "execution_count": 37,
   "id": "67877781",
   "metadata": {},
   "outputs": [
    {
     "data": {
      "application/vnd.jupyter.widget-view+json": {
       "model_id": "",
       "version_major": 2,
       "version_minor": 0
      },
      "text/plain": [
       "Map:   0%|          | 0/100 [00:00<?, ? examples/s]"
      ]
     },
     "metadata": {},
     "output_type": "display_data"
    },
    {
     "data": {
      "text/plain": [
       "Dataset({\n",
       "    features: ['label', 'input_ids'],\n",
       "    num_rows: 100\n",
       "})"
      ]
     },
     "execution_count": 37,
     "metadata": {},
     "output_type": "execute_result"
    }
   ],
   "source": [
    "valid_dataset = valid_dataset.map(\n",
    "    tokenize, batched=True, remove_columns=['text', 'input', 'Unnamed: 0', 'title']\n",
    ")\n",
    "valid_dataset"
   ]
  },
  {
   "cell_type": "code",
   "execution_count": 38,
   "id": "64c0cc42",
   "metadata": {},
   "outputs": [],
   "source": [
    "from torch.utils.data import DataLoader\n",
    "\n",
    "batch_size=4\n",
    "val_ds = valid_dataset\n",
    "val_ds.set_format(type='torch')\n",
    "val_dl = DataLoader(val_ds, batch_size=batch_size)"
   ]
  },
  {
   "cell_type": "code",
   "execution_count": null,
   "id": "e07df029",
   "metadata": {},
   "outputs": [],
   "source": [
    "import re\n",
    "import torch\n",
    "from tqdm import tqdm\n",
    "\n",
    "def acc(pred,label):\n",
    "    return torch.sum(torch.tensor(pred) == label.squeeze()).item()\n"
   ]
  },
  {
   "cell_type": "code",
   "execution_count": 56,
   "id": "0b72e7b6",
   "metadata": {},
   "outputs": [
    {
     "name": "stderr",
     "output_type": "stream",
     "text": [
      "100%|███████████████████████████████████████████| 25/25 [00:09<00:00,  2.51it/s]"
     ]
    },
    {
     "name": "stdout",
     "output_type": "stream",
     "text": [
      "val acc:  0.0\n"
     ]
    },
    {
     "name": "stderr",
     "output_type": "stream",
     "text": [
      "\n"
     ]
    }
   ],
   "source": [
    "model_orig = LlamaForCausalLM.from_pretrained('daily_llama_0612')\n",
    "model_orig.to(device)\n",
    "model_orig.eval()\n",
    "\n",
    "val_losses = []\n",
    "val_acc = 0\n",
    "\n",
    "for step, batch in enumerate(tqdm(val_dl)):\n",
    "    label = batch['label']\n",
    "    input_id= batch['input_ids'].to(device)\n",
    "\n",
    "    pred = model_orig.generate(input_id, max_length=128)\n",
    "    decoded_pred = tokenizer.batch_decode(pred, skip_special_tokens=True, clean_up_tokenization_spaces=False)\n",
    "    decoded_pred = [re.findall(\"answer: (True|False)\", x)[0] if re.findall(\"answer: (True|False)\", x) else 'none' for x in decoded_pred]\n",
    "    decoded_pred = [label2int[x] if x in label2int else -1 for x in decoded_pred]\n",
    "\n",
    "    val_acc += acc(decoded_pred, label)\n",
    "    \n",
    "\n",
    "print(\"val acc: \", val_acc/len(val_dl.dataset))"
   ]
  },
  {
   "cell_type": "code",
   "execution_count": 54,
   "id": "7795ab22",
   "metadata": {},
   "outputs": [
    {
     "data": {
      "text/plain": [
       "(['Determine if the given article is fake. article: WATCH DIRTY HARRY REID ON HIS LIE ABOUT ROMNEY’S TAXES: “HE DIDN’T WIN, DID HE?”  answer: . \"I\\'m not a very good person. I\\'m a little bit more than a little bit of a lot of people who are going to be able to get a lot of money,\" he said. \"I think it\\'s a very good idea. I\\'m not going to be a good guy',\n",
       "  'Is this article fake? article: North Korea diplomat says take atmospheric nuclear test threat \\'literally\\' answer: \"The world\\'s most important to us, we are not going to be able to get a lot of the world\\'s most important to us, but we are not going to be able to get a lot of the world\\'s most important to us.\" The United States is not a major threat to the',\n",
       "  'Is this article fake? article: VIRAL VIDEO: German Youth Deliver Powerful Anti-Refugee Message To Political Leaders: “We are ready for the Reconquista!” answer: . \"I\\'m not a good idea. I\\'m not going to be a good thing. I\\'m not going to be a good thing,\" he said. \"I\\'m not going to be a good thing. I\\'m not going to be a good thing. I\\'m not going to be a',\n",
       "  'Is this article fake? article: Polish ruling party replaces PM ahead of elections answer: . \"The first step in the way of the first lady, and the first lady, is a very good news. \"I\\'m not going to be a good news,\" said the former President Obama\\'s first lady, who is the first lady to be a Republican. \"I\\'m not going to'],\n",
       " tensor([0, 1, 0, 1]))"
      ]
     },
     "execution_count": 54,
     "metadata": {},
     "output_type": "execute_result"
    }
   ],
   "source": [
    "tokenizer.batch_decode(pred, skip_special_tokens=True, clean_up_tokenization_spaces=False), label"
   ]
  },
  {
   "cell_type": "code",
   "execution_count": 57,
   "id": "1d1103cc",
   "metadata": {},
   "outputs": [
    {
     "name": "stderr",
     "output_type": "stream",
     "text": [
      "100%|███████████████████████████████████████████| 25/25 [00:13<00:00,  1.84it/s]"
     ]
    },
    {
     "name": "stdout",
     "output_type": "stream",
     "text": [
      "val acc:  0.98\n"
     ]
    },
    {
     "name": "stderr",
     "output_type": "stream",
     "text": [
      "\n"
     ]
    }
   ],
   "source": [
    "model.eval()\n",
    "val_losses = []\n",
    "val_acc = 0\n",
    "\n",
    "for step, batch in enumerate(tqdm(val_dl)):\n",
    "    label = batch['label']\n",
    "    input_id= batch['input_ids'].to(device)\n",
    "\n",
    "    pred = model.generate(input_id, max_length=150)\n",
    "    decoded_pred = tokenizer.batch_decode(pred, skip_special_tokens=True, clean_up_tokenization_spaces=False)\n",
    "    decoded_pred = [re.findall(\"answer: ([^ ]*)\", x)[0] if re.findall(\"answer: ([^ ]*)\", x) else 'none' for x in decoded_pred]\n",
    "    decoded_pred = [label2int[x] if x in label2int else -1 for x in decoded_pred]\n",
    "\n",
    "    val_acc += acc(decoded_pred, label)\n",
    "    \n",
    "\n",
    "print(\"val acc: \", val_acc/len(val_dl.dataset))"
   ]
  },
  {
   "cell_type": "code",
   "execution_count": 59,
   "id": "b3e96373",
   "metadata": {},
   "outputs": [
    {
     "data": {
      "text/plain": [
       "(['Determine if the given article is fake. article: WATCH DIRTY HARRY REID ON HIS LIE ABOUT ROMNEY’S TAXES: “HE DIDN’T WIN, DID HE?”  answer: False Flag On CNN [VIDEO]  answer: False Flag On Live TV Hosts Who’s Told To “White People” [VIDEO] answer: False Flag Tells Trump To “White People” [VIDEO]  answer: False Flag On Twitter After He Tells His Show To ‘Promises’ [VIDEO] answer: False Flag Ties To ‘Promises',\n",
       "  \"Is this article fake? article: North Korea diplomat says take atmospheric nuclear test threat 'literally' answer: True if it is fake. article: U.S. official answer: True if Trump wins re-election answer: True if U.S. Senate panel will not seek probe answer: True if Trump wins answer: True if he is a threat to U.S. answer: True if Trump wins answer: True if he is a threat to North Korea answer: True if it is 'bump'\",\n",
       "  'Is this article fake? article: VIRAL VIDEO: German Youth Deliver Powerful Anti-Refugee Message To Political Leaders: “We are ready for the Reconquista!” answer: False Flag On CNN answer: False Flag On CNN [VIDEO] answer: False Flag On CNN answer: False Flag On Live TV Hosts…”It’s A “White Man” [VIDEO] answer: False Flag On CNN answer: False Flag On CNN answer: False Flag On Live TV [VIDEO] answer: False Flag On CNN answer: False Flag On Live TV Hosts…',\n",
       "  \"Is this article fake? article: Polish ruling party replaces PM ahead of elections answer: True if Trump wins answer: True if U.S. is a threat to U.S. answer: True if Trump wins re-election answer: True if U.S. Senate confirms Trump's nominee answer: True if he is a threat to U.S. answer: True if he is a threat to U.S. answer: True if Trump wins re-election answer: True if he\"],\n",
       " tensor([0, 1, 0, 1]))"
      ]
     },
     "execution_count": 59,
     "metadata": {},
     "output_type": "execute_result"
    }
   ],
   "source": [
    "tokenizer.batch_decode(pred, skip_special_tokens=True, clean_up_tokenization_spaces=False), label"
   ]
  },
  {
   "cell_type": "code",
   "execution_count": 60,
   "id": "66e8d24c",
   "metadata": {},
   "outputs": [],
   "source": [
    "model.save_pretrained('fake_detect_llama')"
   ]
  },
  {
   "cell_type": "code",
   "execution_count": null,
   "id": "090d3ccd",
   "metadata": {},
   "outputs": [],
   "source": []
  }
 ],
 "metadata": {
  "kernelspec": {
   "display_name": "Python 3 (ipykernel)",
   "language": "python",
   "name": "python3"
  },
  "language_info": {
   "codemirror_mode": {
    "name": "ipython",
    "version": 3
   },
   "file_extension": ".py",
   "mimetype": "text/x-python",
   "name": "python",
   "nbconvert_exporter": "python",
   "pygments_lexer": "ipython3",
   "version": "3.8.10"
  }
 },
 "nbformat": 4,
 "nbformat_minor": 5
}
