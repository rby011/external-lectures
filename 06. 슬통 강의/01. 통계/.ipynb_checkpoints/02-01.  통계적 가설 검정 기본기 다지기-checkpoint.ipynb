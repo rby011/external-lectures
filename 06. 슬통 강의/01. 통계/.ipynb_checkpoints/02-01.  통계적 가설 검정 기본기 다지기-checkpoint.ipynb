{
 "cells": [
  {
   "cell_type": "code",
   "execution_count": 14,
   "id": "a8c08375",
   "metadata": {},
   "outputs": [
    {
     "data": {
      "text/plain": [
       "(3.930752241850558, 3.930752241850558, 3.7877676372065627, 3.7877676372065627)"
      ]
     },
     "execution_count": 14,
     "metadata": {},
     "output_type": "execute_result"
    }
   ],
   "source": [
    "#\n",
    "# ※ 표본의 표준편차\n",
    "#\n",
    "\n",
    "import numpy as np\n",
    "import pandas as pd\n",
    "import scipy.stats as sp\n",
    "\n",
    "x = np.array([4.62, 4.09, 6.2, 0.77, 5.55, 3.11, 11.97, 2.16, 3.24, 10.91, 11.36, 0.87, 9.93, 2.9])\n",
    "\n",
    "# 수식데로 구하기 (분모는 자유도)\n",
    "sd = 0\n",
    "for xi in x:\n",
    "    sd = sd + (xi - x_bar) ** 2\n",
    "sd = sd / (len(x) - 1)\n",
    "sd = sd ** 0.5\n",
    "\n",
    "# 데이터 프레임의 표준편차로 구하기\n",
    "df = pd.DataFrame()\n",
    "df[\"x\"] = x\n",
    "\n",
    "# numpy 와 비교해보기\n",
    "# - np 의 표준편차는 모표준편차로 계산\n",
    "# - df 의 표준편차는 표본 표준편차로 계산\n",
    "sd, df[\"x\"].std(), np.std(x), x.std()"
   ]
  },
  {
   "cell_type": "code",
   "execution_count": null,
   "id": "0271932b",
   "metadata": {},
   "outputs": [],
   "source": [
    "#\n",
    "# [1] t-검정 연습문제\n",
    "#"
   ]
  }
 ],
 "metadata": {
  "kernelspec": {
   "display_name": "Python 3 (ipykernel)",
   "language": "python",
   "name": "python3"
  },
  "language_info": {
   "codemirror_mode": {
    "name": "ipython",
    "version": 3
   },
   "file_extension": ".py",
   "mimetype": "text/x-python",
   "name": "python",
   "nbconvert_exporter": "python",
   "pygments_lexer": "ipython3",
   "version": "3.9.13"
  }
 },
 "nbformat": 4,
 "nbformat_minor": 5
}
