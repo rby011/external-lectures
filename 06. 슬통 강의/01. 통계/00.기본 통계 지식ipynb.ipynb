{
 "cells": [
  {
   "cell_type": "code",
   "execution_count": null,
   "metadata": {},
   "outputs": [],
   "source": [
    "#\n",
    "# [TODO]  PCA 수행시 데이터 표준화 → 공분산 행렬 → 공분산 행렬의 고유벡터를 구하고 나서\n",
    "# 1) 고유벡터에 표준화 데이터를 투영시킨 것이 주성분인데, 이 과정이 올바른 것인지 명확치 않음 \n",
    "#    : sklearn.decomposition.PCA 에 표준화 데이터를 넣어 주성분을 구한 것과 \n",
    "#      위 과정을 manual 하게 수행한 결과에 표준화 데이터를 투영한 것의 결과가 서로 다름 \n",
    "#    : maybe ㅇnumpy 행렬 계산시 행, 열 기준축 때문인지에 대해서 등 원인을 파악하지 못함\n",
    "# 2) Singular Vector Descomposition 을 통해 주성분을 구하는 로직을 파악하지 못함\n",
    "# "
   ]
  },
  {
   "cell_type": "code",
   "execution_count": 31,
   "metadata": {},
   "outputs": [
    {
     "name": "stdout",
     "output_type": "stream",
     "text": [
      "2.0 2.0 2.0\n"
     ]
    },
    {
     "data": {
      "text/plain": [
       "(2.5, -0.3125, 2.5)"
      ]
     },
     "execution_count": 31,
     "metadata": {},
     "output_type": "execute_result"
    }
   ],
   "source": [
    "#\n",
    "# [1] 분산 (Variance)\n",
    "#\n",
    "# Var ( X ) = E [ ( X - E[X] )² ]\n",
    "#\n",
    "# → E[ ( X - E[X] )² ]\n",
    "# → E[ X² - 2 X · E[X] + E[X]² ]\n",
    "# → E[X²] - E[2X· E[X]] + E[E[X]²]\n",
    "# → E[X²] - 2E[X]E[X] + E[X]²\n",
    "# → E[X²] - E[X]²\n",
    "#\n",
    "# - 변수가 변화하는 정도\n",
    "\n",
    "import numpy as np\n",
    "import pandas as pd\n",
    "\n",
    "X = np.array([1, 2, 3, 4, 5])\n",
    "\n",
    "m = np.mean(X)\n",
    "n = len(X)\n",
    "\n",
    "print(np.sum((X - m) ** 2) / n , np.mean(X*X) - np.mean(X)**2 , np.var(X))\n",
    "\n",
    "# \n",
    "# 표본은 자유도 (n - 1) 고려\n",
    "# \n",
    "df = pd.DataFrame()\n",
    "df[\"X\"] = X\n",
    "np.sum((X - m)**2) / ( n - 1) ,  df[\"X\"].var()"
   ]
  },
  {
   "cell_type": "code",
   "execution_count": 28,
   "metadata": {},
   "outputs": [
    {
     "data": {
      "text/plain": [
       "4.0"
      ]
     },
     "execution_count": 28,
     "metadata": {},
     "output_type": "execute_result"
    }
   ],
   "source": [
    "#\n",
    "# [2] 공분산 (Covariance)\n",
    "#\n",
    "# Cov (X, Y) = E [ ( X - E[X] ) * ( Y - E[Y] ) ] = E[X·Y] - E[X]·E[Y]\n",
    "# \n",
    "# → E[(X - E[X]) * (Y - E[Y])]\n",
    "# → E[ X·Y - E[X]·Y - E[Y]·X + E[X]E[Y] ]\n",
    "# → E[X·Y] - E[E[X]·Y] - E[E[Y]·X] + E[E[X]E[Y]]\n",
    "# → E[X·Y] - E[X]·E[Y] - E[Y]·E[X] + E[X]E[Y]\n",
    "# → E[X·Y] - E[X]·E[Y]              * X, Y 독립인 경우 E[XY] = E(X)E(Y) 이므로 공분산 0\n",
    "#\n",
    "# - 두 변수가 함께 변하는 정도 (같은 방향으로 변하면 양수, 반대 방향으로 변하면 음수)\n",
    "#\n",
    "import numpy as np\n",
    "import pandas as pd\n",
    "\n",
    "X1 = np.array([1, 2, 3, 4, 5])\n",
    "X2 = np.array([2, 4, 6, 8, 10])\n",
    "\n",
    "# 방법 1 : E[(X - E[X]) * (Y - E[Y])] \n",
    "np.mean((X1 - np.mean(X1)) * (X2 - np.mean(X2)))  # 4.0\n",
    "\n",
    "# 방법 2 : E[X·Y] - E[X]·E[Y]\n",
    "np.mean(X1 * X2) - np.mean(X1) * np.mean(X2)      # 4.0\n",
    "\n",
    "# 방법 3: Covariance Matrix 에서 추출\n",
    "np.cov(X1, X2, ddof=0) [0, 1]                     # 4.0\n",
    "\n",
    "# 방법 4\n",
    "(X1 - np.mean(X1))@(X2 - np.mean(X2)) / len(X1)   # 4.0"
   ]
  },
  {
   "cell_type": "code",
   "execution_count": 52,
   "metadata": {},
   "outputs": [
    {
     "data": {
      "text/plain": [
       "True"
      ]
     },
     "execution_count": 52,
     "metadata": {},
     "output_type": "execute_result"
    }
   ],
   "source": [
    "#\n",
    "# [4] 선형 변환 時 기대값, 분산, 표준편차, 공분산의 성질\n",
    "#\n",
    "# - E(aX + b) = aE(X) + b\n",
    "# - V(aX + b) = a^2 * V(X)\n",
    "# - SD(aX + b) = |a| * SD(X)\n",
    "# - Cov(aX + b, cY + d) = ac * Cov(X, Y)\n",
    "#\n",
    "import numpy as np\n",
    "\n",
    "X = np.array([1,2,3,4,5])\n",
    "Y = np.array([2,4,6,8,10])\n",
    "a = 10\n",
    "b = 5\n",
    "c = 3\n",
    "d = 6\n",
    "\n",
    "# E(aX+b) = a * E(X) + b\n",
    "E_X = np.mean(X)\n",
    "np.mean(a * X + b) == a * E_X + b      # True\n",
    "\n",
    "# V(aX+b) = a^2 * V(X)\n",
    "V_X = np.var(X)\n",
    "np.var(a * X + b) == a ** 2 * V_X      # True\n",
    "\n",
    "# S(aX+b) = |a| * S(X) \n",
    "SD_X = np.std(X)\n",
    "np.std(a * X + b) == a * SD_X          # True\n",
    "a = -10 \n",
    "b = -5\n",
    "np.std(a * X + b) == np.abs(a) * SD_X  # True\n",
    "\n",
    "# Cov(aX + b, cY + d) = a * c * Cov(X, Y)\n",
    "C_XY = np.cov(X, Y, ddof = 0)[0,1] \n",
    "np.cov(a*X + b, c*Y + d, ddof = 0)[0,1] == a * c * C_XY  # True"
   ]
  },
  {
   "cell_type": "code",
   "execution_count": 70,
   "metadata": {},
   "outputs": [
    {
     "data": {
      "text/plain": [
       "True"
      ]
     },
     "execution_count": 70,
     "metadata": {},
     "output_type": "execute_result"
    }
   ],
   "source": [
    "#\n",
    "# [6] 선형 결합 時 기대값, 분산, 표준편차, 공분산의 성질\n",
    "# \n",
    "# - E(aX + bY) = aE(X) + bE(Y)\n",
    "# - V(aX + bY) = a^2 * V(X) + b^2 * V(Y) + 2ab * Cov(X, Y)\n",
    "# - SD(aX + bY) = sqrt(a^2 * Var(X) + b^2 * Var(Y) + 2ab * Cov(X, Y))\n",
    "# - Cov(aX + bY, cX + dY) = ac * Cov(X, X) + ad * Cov(X, Y) + bc * Cov(Y, X) + bd * Cov(Y, Y)\n",
    "#\n",
    "import numpy as np\n",
    "\n",
    "X = np.array([1,2,3,4,5])\n",
    "Y = np.array([2,4,6,8,10])\n",
    "a = 10\n",
    "b = 5\n",
    "c = 3\n",
    "d = 6\n",
    "\n",
    "E_X = np.mean(X)\n",
    "E_Y = np.mean(Y)\n",
    "V_X = np.var(X)\n",
    "V_Y = np.var(Y)\n",
    "S_X = np.std(X)\n",
    "S_Y = np.std(Y)\n",
    "C_XY = np.cov(X,Y, ddof=0)[0,1]  # 2.0\n",
    "C_XX = np.cov(X,X, ddof=0)[0,1]  # 4.0\n",
    "C_YX = np.cov(Y,X, ddof=0)[0,1]  # 4.0\n",
    "C_YY = np.cov(Y,Y, ddof=0)[0,1]  # 8.0\n",
    "\n",
    "np.mean(a*X + b*Y) == a * E_X + b * E_Y\n",
    "np.var(a*X + b*Y) == a**2 * V_X + b**2*V_Y + 2*a*b*C_XY \n",
    "np.std(a*X + b*Y) == np.sqrt(a**2 * V_X + b**2*V_Y + 2*a*b*C_XY)\n",
    "np.cov(a*X+b*Y, c*X+d*Y, ddof=0)[0,1] == a*c*C_XX + a*d*C_XY + b*c*C_YX + b*d*C_YY"
   ]
  },
  {
   "cell_type": "code",
   "execution_count": null,
   "metadata": {},
   "outputs": [],
   "source": [
    "#\n",
    "# [참고] 확률변수의 곱 \n",
    "#\n",
    "# - E(XY) = E(X)E(Y) * X, Y 가 독립인 경우\n",
    "# - 분산, 공분산의 경우는 상호작용에 따라 달라지는 부분이 커 정의할 수 없음\n",
    "#"
   ]
  },
  {
   "cell_type": "code",
   "execution_count": null,
   "metadata": {},
   "outputs": [],
   "source": [
    "#\n",
    "# [7] 상관 계수의 성질\n",
    "# \n",
    "# - 두 변수의 선형 변환 時 상관계수의 크기는 변화 없음 \n",
    "# - 두 변수 중 하나에 음수가 곱해지면 상관계수의 부호가 변화\n",
    "# \n",
    "# 예) A, B 의 상관계수가 1/2 이고 A = 10x + 5, B = 20y + 8 인 경우 x , y 의 상관계수는 ?\n",
    "#\n",
    "# 1) p(A, B) = Cov (A, B) / σ_A * σ_B = 1 / 2\n",
    "#    →  Cov (A, B) = p (A, B) * σ_A * σ_B = 1 / 2 * σ_A * σ_B\n",
    "#\n",
    "# 2) \n",
    "# σ_A = σ (10X + 5) = 10 * σ_x\n",
    "# σ_B = σ (20y + 8) = 20 * σ_y\n",
    "#\n",
    "# 3) Cov (A, B) = Cov (10x + 5, 20y + 8 ) = 10 * 20 * Cov (x , y) = 200 * Cov (x, y)\n",
    "# \n",
    "# 4)\n",
    "# 1) ← 2) & 3)\n",
    "# Cov (A, B) = 200 * Cov (x, y) = 1 / 2 * σ_A * σ_B = 1 / 2 * (10 * σ_x) * (20 * σ_y)\n",
    "# → 200 Cov (x y) = 100 * σ_x * σ_y\n",
    "#\n",
    "# ▷ Cov (x, y) / σ_x * σ_y = 100 / 200 = 1 / 2\n",
    "#"
   ]
  },
  {
   "cell_type": "code",
   "execution_count": 92,
   "metadata": {},
   "outputs": [
    {
     "data": {
      "text/plain": [
       "(array([[2., 4.],\n",
       "        [4., 8.]]),\n",
       " array([[2., 4.],\n",
       "        [4., 8.]]),\n",
       " array([[2., 4.],\n",
       "        [4., 8.]]))"
      ]
     },
     "execution_count": 92,
     "metadata": {},
     "output_type": "execute_result"
    }
   ],
   "source": [
    "#\n",
    "# [8] 공분산 행렬 (Covariance Matrix)\n",
    "# \n",
    "# Cov (X) = E ( X - E[X] ) · ( X - E(X) )_T  / n  * Transepose 는 X 행렬 형태에 의존\n",
    "#  \n",
    "# - 대각 행렬은 各 변수의 분산, 나머지 요소가 변수 間 공분산 \n",
    "# - ddof 로 자유도 설정 , rowvar 로 데이터의 구성 방향(행 방향이 default) 설정\n",
    "# \n",
    "#\n",
    "# [NOTE] X_T · X 와 X_T · X \n",
    "# - X (n x p) dot X_T (p x n) 은 n x n 으로 n 에 대한 정리\n",
    "# - X_T (p x n) dot X (n x p) 은 p x p 으로 p 에 대한 정리\n",
    "#\n",
    "\n",
    "import numpy as np\n",
    "\n",
    "X1 = np.array([1, 2, 3, 4, 5])\n",
    "X2 = np.array([2, 4, 6, 8, 10])\n",
    "\n",
    "X = np.stack([X1, X2], axis=1)   # p x n \n",
    "C1 = (X - np.mean(X, axis = 0)).T @ (X - np.mean(X, axis = 0)) / len(X)\n",
    "C2 = np.cov(X1, X2, ddof=0)\n",
    "C3 = np.cov(X.T, ddof=0)         # numpy 는 기본적으로 행\n",
    "C1, C2, C3"
   ]
  },
  {
   "cell_type": "code",
   "execution_count": null,
   "metadata": {},
   "outputs": [],
   "source": []
  },
  {
   "cell_type": "code",
   "execution_count": 2,
   "metadata": {},
   "outputs": [
    {
     "name": "stdout",
     "output_type": "stream",
     "text": [
      "[[2.14510215]\n",
      " [0.84546883]]\n",
      "[[-5.08587896]\n",
      " [ 3.51181556]\n",
      " [ 0.85878963]]\n"
     ]
    },
    {
     "data": {
      "text/plain": [
       "array([[ 1.,  1.,  2.],\n",
       "       [ 1.,  2.,  5.],\n",
       "       [ 1.,  3.,  3.],\n",
       "       [ 1.,  4.,  2.],\n",
       "       [ 1.,  5., 11.]])"
      ]
     },
     "execution_count": 2,
     "metadata": {},
     "output_type": "execute_result"
    }
   ],
   "source": [
    "import numpy as np\n",
    "\n",
    "#\n",
    "# [9] 회귀계수 추정 \n",
    "# \n",
    "# - (X_T · X)-¹ · X_T · y = β \n",
    "# - (p x n) (n x p) (p x n) (n x 1)\n",
    "#   → (p x p) (p x n) (n x 1)\n",
    "#   → (p x n) (n x 1)\n",
    "#   → (p x 1)\n",
    "# - 그래서 X 에 1 vector 를 제일 앞에 추가해서 상수항도 함께 고려하는 것임!\n",
    "#\n",
    "X1 = np.array([1,2,3,4,5]).reshape(-1,1)\n",
    "X2 = np.array([2,5,3,2,11]).reshape(-1,1)\n",
    "y = np.array([3,4,5,12,23]).reshape(-1,1)\n",
    "X = np.concatenate([X1, X2], axis = 1)\n",
    "\n",
    "# 절편 미고려 時\n",
    "print(np.dot(np.dot(np.linalg.inv(np.dot(X.T , X)), X.T), y))\n",
    "\n",
    "# 절편 고려 時\n",
    "X = np.concatenate([np.ones((5,1)),X] , axis=1)\n",
    "print(np.dot(np.dot(np.linalg.inv(np.dot(X.T , X)), X.T), y))\n",
    "\n",
    "# @ 연산자 (행렬 곱)\n",
    "np.linalg.inv(X.T @ X) @ X.T @ y\n",
    "\n",
    "X\n"
   ]
  },
  {
   "cell_type": "code",
   "execution_count": 84,
   "metadata": {},
   "outputs": [
    {
     "data": {
      "text/plain": [
       "(-4.99600361081321e-16,\n",
       " array([[ 0.00000000e+00,  3.33333333e-01,  6.66666667e-01],\n",
       "        [-1.80143985e+16,  6.00479950e+15,  2.00159983e+15],\n",
       "        [ 1.80143985e+16, -6.00479950e+15, -2.00159983e+15]]))"
      ]
     },
     "execution_count": 84,
     "metadata": {},
     "output_type": "execute_result"
    }
   ],
   "source": [
    "#\n",
    "# [10] 행렬식 (Determinant) 과 역행렬\n",
    "# \n",
    "# det(A) = 대각 행렬들의 합의 차 \n",
    "# - det(A)= 0    : 역행렬이 존재할 수 없음 → 선형 변환 時 일부 Vector 가 다른 Vector 로 매핑되어 손실이 발생함을 의미\n",
    "# - |det(A)| > 0 : 스케일링 효과를 갖는 행렬\n",
    "#\n",
    "# A · A-¹ = I   * I 는 항등행렬 (대각 행렬이 모두 1, 나머지는 0)\n",
    "#\n",
    "#   \n",
    "import numpy as np\n",
    "\n",
    "X1 = np.array([1,2,3])\n",
    "X2 = np.array([2,5,3])\n",
    "X3 = np.array([3,4,5])\n",
    "X = np.stack([X1, X2, X2], axis = 1)\n",
    "\n",
    "# 행렬식과 역행렬\n",
    "np.linalg.det(X), np.linalg.inv(X)"
   ]
  },
  {
   "cell_type": "code",
   "execution_count": 87,
   "metadata": {},
   "outputs": [
    {
     "data": {
      "text/plain": [
       "(array([ 9.21699057e+00, -2.16990566e-01, -8.40763765e-16]),\n",
       " array([[-3.20315142e-01, -1.36872590e-01, -1.90430373e-16],\n",
       "        [-7.83411514e-01, -6.57569819e-01, -7.07106781e-01],\n",
       "        [-5.32601736e-01,  7.40856145e-01,  7.07106781e-01]]))"
      ]
     },
     "execution_count": 87,
     "metadata": {},
     "output_type": "execute_result"
    }
   ],
   "source": [
    "#\n",
    "# [11] 고유벡터(eigen vector) 와 고유값(eigen value)  \n",
    "#\n",
    "# A · x = λ · x 가 존재할 때 λ 를 고유값, x 를 고유벡터  * A 는 정방행렬\n",
    "# \n",
    "# - 고유벡터 :  선형 변환 時 방향을 보존하고 크기만 변하는 벡터 (x)\n",
    "# - 고유값   :  고유벡터(x)가 선형 변환에 대해서 얼마나 변화되는지를 나타내는 값 (λ)\n",
    "# - 고유값과 고유벡터 개수 = 변수 개수\n",
    "# \n",
    "# → A·x - λ·x = 0   , 0 벡터가 존재한다고 가정하고 x, λ 를 구함\n",
    "# → (A - λ·I)·x = 0 , 0 벡터가 존재하려면 det(A - λ) = 0 이여야 함 (otherwise, x 가 0 벡터야함)\n",
    "# → det(A - λ·I) = 0 을 만족하는 λ 를 구하고 (A - λ·I)·x = 0 을 만족하는 x 벡터를 구함\n",
    "#\n",
    "import numpy as np\n",
    "\n",
    "X1 = np.array([1,2,3])\n",
    "X2 = np.array([2,5,3])\n",
    "X3 = np.array([3,4,5])\n",
    "X = np.stack([X1, X2, X2], axis = 1)\n",
    "\n",
    "eigen_vals, eigen_vectors = np.linalg.eig(X)\n",
    "eigen_vals, eigen_vectors"
   ]
  },
  {
   "cell_type": "code",
   "execution_count": 127,
   "metadata": {},
   "outputs": [
    {
     "data": {
      "text/plain": [
       "(array([-0.1339746, -0.3660254,  0.5      ]),\n",
       " array([-1.8660254,  1.3660254,  0.5      ]))"
      ]
     },
     "execution_count": 127,
     "metadata": {},
     "output_type": "execute_result"
    }
   ],
   "source": [
    "#\n",
    "# [12] 주성분 (Pinciple Components)\n",
    "# \n",
    "\n",
    "import numpy as np\n",
    "\n",
    "# 임의 데이터\n",
    "X1 = np.array([2,0,1])\n",
    "X2 = np.array([0,1,1])\n",
    "X = np.stack([X1, X2], axis=1)\n",
    "\n",
    "#\n",
    "# 방법1 : Numpy 기본 함수로 구하기  \n",
    "#\n",
    "\n",
    "# (1) 표준화 (Standard Scaling)\n",
    "Z = (X - np.mean(X,axis = 0)) / np.std(X, axis = 0)\n",
    "# # [ 1.22474487 -1.41421356]\n",
    "# # [-1.22474487  0.70710678]\n",
    "# # [ 0.          0.70710678]\n",
    "\n",
    "# (2) 공분산 행렬\n",
    "C = np.cov(Z.T, ddof=0)\n",
    "# [ 1.       , -0.8660254],\n",
    "# [-0.8660254,  1.       ]\n",
    "\n",
    "# (3) 고유벡터, 고유값\n",
    "e_vals, e_vecs = np.linalg.eig(C)\n",
    "# λ1 ,λ2 = [1.8660254, 0.1339746]\n",
    "# x1 = [ 0.70710678,  0.70710678],\n",
    "# x2 = [-0.70710678,  0.70710678]\n",
    "\n",
    "# (4) 주성분\n",
    "PC1 = Z @ e_vecs[0] # [-0.1339746, -0.3660254,  0.5 ]\n",
    "PC2 = Z @ e_vecs[1] # [-1.8660254,  1.3660254,  0.5 ]\n",
    "\n",
    "PC1, PC2"
   ]
  },
  {
   "cell_type": "code",
   "execution_count": 133,
   "metadata": {},
   "outputs": [
    {
     "data": {
      "text/plain": [
       "array([[-0.78867513,  0.57735027,  0.21132487],\n",
       "       [-0.61069682, -0.69597283, -0.37771844]])"
      ]
     },
     "execution_count": 133,
     "metadata": {},
     "output_type": "execute_result"
    }
   ],
   "source": [
    "import numpy as np\n",
    "from sklearn.decomposition import PCA\n",
    "\n",
    "X1 = np.array([2, 0, 1])\n",
    "X2 = np.array([0, 1, 1])\n",
    "X = np.stack([X1, X2], axis=0)\n",
    "Z = (X - np.mean(X, axis=1).reshape(-1, 1)) / np.std(X, axis=1).reshape(-1, 1)\n",
    "\n",
    "pca = PCA(n_components=2)\n",
    "pca.fit(Z)\n",
    "\n",
    "pca.components_\n",
    "# PC_scores = pca.transform(Z)\n",
    "# print(\"주성분 점수:\")\n",
    "# print(PC_scores)\n"
   ]
  },
  {
   "cell_type": "code",
   "execution_count": 125,
   "metadata": {},
   "outputs": [
    {
     "name": "stdout",
     "output_type": "stream",
     "text": [
      "PC1 점수: [ 1.8660254 -1.3660254 -0.5      ]\n",
      "PC2 점수: [-0.1339746 -0.3660254  0.5      ]\n"
     ]
    }
   ],
   "source": [
    "import numpy as np\n",
    "\n",
    "X1 = np.array([2, 0, 1])\n",
    "X2 = np.array([0, 1, 1])\n",
    "X = np.stack([X1, X2], axis=1)\n",
    "\n",
    "Z = (X - np.mean(X, axis=0)) / np.std(X, axis=0)\n",
    "C = np.cov(Z.T, ddof=0)\n",
    "\n",
    "e_vals, e_vecs = np.linalg.eig(C)\n",
    "\n",
    "# 고유값을 기준으로 고유 벡터를 정렬\n",
    "# idx = e_vals.argsort()[::-1]\n",
    "# e_vals = e_vals[idx]\n",
    "# e_vecs = e_vecs[:, idx]\n",
    "\n",
    "PC1_scores = Z @ e_vecs[:, 0]\n",
    "PC2_scores = Z @ e_vecs[:, 1]\n",
    "\n",
    "print(\"PC1 점수:\", PC1_scores)\n",
    "print(\"PC2 점수:\", PC2_scores)\n"
   ]
  },
  {
   "cell_type": "code",
   "execution_count": null,
   "metadata": {},
   "outputs": [],
   "source": [
    "#\n",
    "# [13] 표준 오차 (Standard Error)\n",
    "#\n",
    "# - 개념 : 추정치의 변동성을 측정한 값으로 추정치에 따라 계산 방식이 다름!!\n",
    "#\n",
    "# - 종류 : 모집단에 대한 평균, 비율, 평균의 차이, 비율의 차이, 회귀 계수 등\n",
    "#  . SEM (Standard Error of the Mean) = S / sqrt(n)                     *  S 표본 표준 편차, n 표본 크기\n",
    "#  . SEP (Standard Error of the Proportion) = sqrt(p * (1 - p) / n)     *  p 표본 비율, n 표본 크기\n",
    "#  . SERC(Standard Error of the Regression Coefficient) = sqrt[ { (Σ(실제값 - 예측값)² / (n - k - 1) } / {Σ(Xi - X_mean)²} ]\n",
    "#    *  n 데이터 개수, k는 독립변수(예측 변수) 개수입니다(절편은 제외) , Xi 각 독립 변수의 값, X_mean 독립 변수의 평균\n",
    "#  . SEDM(Standard Error of the Difference Between Means) = sqrt((S1² / n1) + (S2² / n2))\n",
    "#    *  S1과 S2는 각 표본의 표준 편차, n1과 n2는 각 표본의 크기\n",
    "#  . SEDP(Standard Error of the Difference Between Proportions)  = sqrt((p1 * (1-p1) / n1) + (p2 * (1-p2) / n2))\n",
    "#    *  p1과 p2는 각 표본 비율, n1과 n2는 각 표본의 크기\n",
    "#\n",
    "# - 각 표준 오차는 정규분포(표본 크기에 따라 t-분포)를 따른다고 볼 수 있으나 상황에 따라 다름\n",
    "#  \n"
   ]
  },
  {
   "cell_type": "code",
   "execution_count": 146,
   "metadata": {},
   "outputs": [
    {
     "data": {
      "text/plain": [
       "(2.9584181038785426, 3.0317308635070943)"
      ]
     },
     "execution_count": 146,
     "metadata": {},
     "output_type": "execute_result"
    }
   ],
   "source": [
    "#\n",
    "# [14] 추정치의 신뢰구간\n",
    "#\n",
    "# - 개념 : 추정치 주변의 불확실성을 나타내며, 특정 신뢰 수준에서 참 값이 포함될 것으로 예상되는 구간입니다\n",
    "# \n",
    "# - 공식 : \"추정치 ± 통계량_α/2 * 표준오차\" \n",
    "#   → 통계량_α/2\" : 해당 신뢰 수준에서의 임계값 (예: 정규분포에서 유의수준 5% 에 해당 하는 통계량은 1.96.(양측) )\n",
    "#   → 표준오차 : 표본에서 추출되는 과정에서 발생할 수 있는 추정치 변동성\n",
    "#   →→ 추정치의 불확실성을 고려하여 주어진 신뢰 수준에서 참 값이 포함될 것으로 예상되는 범위를 계산\n",
    "# \n",
    "\n",
    "import numpy as np\n",
    "import pandas as pd\n",
    "import scipy.stats as sp\n",
    "from statsmodels.formula.api import ols\n",
    "\n",
    "data = pd.read_csv(\"./data/bike.csv\")\n",
    "\n",
    "model = ols(formula='casual ~ temp', data = data).fit()\n",
    "\n",
    "coff = model.params['temp'] \n",
    "se = model.bse['temp']\n",
    "t_staticstics_half = np.abs(sp.t.ppf(q=0.25, df = data.shape[0] - 2))\n",
    "\n",
    "coff - se * t_staticstics_half, coff + se * t_staticstics_half\n"
   ]
  }
 ],
 "metadata": {
  "kernelspec": {
   "display_name": "Python 3 (ipykernel)",
   "language": "python",
   "name": "python3"
  },
  "language_info": {
   "codemirror_mode": {
    "name": "ipython",
    "version": 3
   },
   "file_extension": ".py",
   "mimetype": "text/x-python",
   "name": "python",
   "nbconvert_exporter": "python",
   "pygments_lexer": "ipython3",
   "version": "3.9.13"
  }
 },
 "nbformat": 4,
 "nbformat_minor": 2
}
