{
 "cells": [
  {
   "cell_type": "code",
   "execution_count": 14,
   "id": "f7bddd4c",
   "metadata": {},
   "outputs": [
    {
     "data": {
      "text/plain": [
       "(3.930752241850558, 3.930752241850558, 3.7877676372065627, 3.7877676372065627)"
      ]
     },
     "execution_count": 14,
     "metadata": {},
     "output_type": "execute_result"
    }
   ],
   "source": [
    "#\n",
    "# ※ 표본의 표준편차\n",
    "#\n",
    "\n",
    "import numpy as np\n",
    "import pandas as pd\n",
    "import scipy.stats as sp\n",
    "\n",
    "x = np.array([4.62, 4.09, 6.2, 0.77, 5.55, 3.11, 11.97, 2.16, 3.24, 10.91, 11.36, 0.87, 9.93, 2.9])\n",
    "\n",
    "# 수식데로 구하기 (분모는 자유도)\n",
    "sd = 0\n",
    "for xi in x:\n",
    "    sd = sd + (xi - x_bar) ** 2\n",
    "sd = sd / (len(x) - 1)\n",
    "sd = sd ** 0.5\n",
    "\n",
    "# 데이터 프레임의 표준편차로 구하기\n",
    "df = pd.DataFrame()\n",
    "df[\"x\"] = x\n",
    "\n",
    "# numpy 와 비교해보기\n",
    "# - np 의 표준편차는 모표준편차로 계산\n",
    "# - df 의 표준편차는 표본 표준편차로 계산\n",
    "sd, df[\"x\"].std(), np.std(x), x.std()"
   ]
  },
  {
   "cell_type": "code",
   "execution_count": 20,
   "id": "2b74996f",
   "metadata": {},
   "outputs": [
    {
     "data": {
      "text/plain": [
       "array([1, 2, 2, 4, 4, 6], dtype=int64)"
      ]
     },
     "execution_count": 20,
     "metadata": {},
     "output_type": "execute_result"
    }
   ],
   "source": [
    "x = [1, 2, 2, 3, 3, 4]\n",
    "\n",
    "sp.rankdata(x,method='min')"
   ]
  },
  {
   "cell_type": "code",
   "execution_count": 21,
   "id": "fe51c73b",
   "metadata": {},
   "outputs": [
    {
     "data": {
      "text/plain": [
       "1.0304460725805482"
      ]
     },
     "execution_count": 21,
     "metadata": {},
     "output_type": "execute_result"
    }
   ],
   "source": [
    "#\n",
    "# [1] t-검정 연습문제\n",
    "#\n",
    "\n",
    "1 / (2.17 / 5 ** 0.5)"
   ]
  },
  {
   "cell_type": "code",
   "execution_count": 24,
   "id": "68c24446",
   "metadata": {},
   "outputs": [],
   "source": [
    "sp.t.cdf()"
   ]
  },
  {
   "cell_type": "code",
   "execution_count": null,
   "id": "d95af925",
   "metadata": {},
   "outputs": [],
   "source": [
    "1 - sp.t"
   ]
  },
  {
   "cell_type": "code",
   "execution_count": null,
   "id": "575b6baf",
   "metadata": {},
   "outputs": [],
   "source": []
  }
 ],
 "metadata": {
  "kernelspec": {
   "display_name": "Python 3 (ipykernel)",
   "language": "python",
   "name": "python3"
  },
  "language_info": {
   "codemirror_mode": {
    "name": "ipython",
    "version": 3
   },
   "file_extension": ".py",
   "mimetype": "text/x-python",
   "name": "python",
   "nbconvert_exporter": "python",
   "pygments_lexer": "ipython3",
   "version": "3.9.13"
  }
 },
 "nbformat": 4,
 "nbformat_minor": 5
}
